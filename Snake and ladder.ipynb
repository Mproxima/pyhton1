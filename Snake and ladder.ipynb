{
 "cells": [
  {
   "cell_type": "code",
   "execution_count": 9,
   "metadata": {},
   "outputs": [],
   "source": [
    "import random\n",
    "\n",
    "def rolldice():\n",
    "    sum = 0\n",
    "    while(sum!=1):\n",
    "        input(\"Enter to roll dice \")\n",
    "        sum = random.randrange(1,7)\n",
    "        print (\"You got \"+str(sum)+\"\\n\")\n",
    "        \n",
    "    print (\"Ok..you are into the game now \\n\") \n",
    "    while(sum!=100):\n",
    "        input(\"enter to roll dice\")\n",
    "        dice = random.randrange(1,7)\n",
    "        print (\"you got \"+str(dice) +\"\\n\")\n",
    "        sum = sum+ dice\n",
    "        if( sum >100):\n",
    "            print (\"Sorry try again\")\n",
    "            sum = sum- dice\n",
    "        print (\"now you are at \" + str(sum) +\"\\n\")\n",
    "        if SorL(sum) > sum:\n",
    "            print (\"you got a ladder to \"+str(SorL(sum))+\"\\n\")\n",
    "        elif SorL(sum) < sum:\n",
    "            print (\"you got bit by a snake \"+str(SorL(sum))+\"\\n\")\n",
    "            \n",
    "        sum = SorL(sum)\n",
    "\n",
    "    print (\"Congrats....\")\n",
    "    \n",
    "def SorL(x):\n",
    "    return{6:16,9:31,19:38,21:79,28:84,51:67,72:92,80:100,18:5,43:23,49:33,56:26,65:44,88:63,92:71,99:35}.get(x,x)"
   ]
  },
  {
   "cell_type": "code",
   "execution_count": null,
   "metadata": {},
   "outputs": [],
   "source": []
  }
 ],
 "metadata": {
  "kernelspec": {
   "display_name": "Python 3",
   "language": "python",
   "name": "python3"
  },
  "language_info": {
   "codemirror_mode": {
    "name": "ipython",
    "version": 3
   },
   "file_extension": ".py",
   "mimetype": "text/x-python",
   "name": "python",
   "nbconvert_exporter": "python",
   "pygments_lexer": "ipython3",
   "version": "3.6.4"
  }
 },
 "nbformat": 4,
 "nbformat_minor": 2
}
